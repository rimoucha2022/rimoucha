{
  "nbformat": 4,
  "nbformat_minor": 0,
  "metadata": {
    "colab": {
      "name": "Untitled0.ipynb",
      "provenance": [],
      "collapsed_sections": [],
      "authorship_tag": "ABX9TyNLZO+r7GDPM4vfQ7F/yXk0",
      "include_colab_link": true
    },
    "kernelspec": {
      "name": "python3",
      "display_name": "Python 3"
    },
    "language_info": {
      "name": "python"
    }
  },
  "cells": [
    {
      "cell_type": "markdown",
      "metadata": {
        "id": "view-in-github",
        "colab_type": "text"
      },
      "source": [
        "<a href=\"https://colab.research.google.com/github/rimoucha2022/rimoucha/blob/main/Untitled0.ipynb\" target=\"_parent\"><img src=\"https://colab.research.google.com/assets/colab-badge.svg\" alt=\"Open In Colab\"/></a>"
      ]
    },
    {
      "cell_type": "code",
      "source": [
        "# Mes premiers pas avec Colab\n",
        "# plt alias de la biblio pour lui faire appel\n",
        "\n",
        "import matplotlib.pyplot as plt\n",
        "activities = ['manger', 'dormir', 'travailler', 'divertissement']\n",
        "slices = [5, 2, 6, 4]\n",
        "colors = ['r', 'y', 'g', 'b']\n",
        "plt.pie(slices, labels = activities, colors=colors,\n",
        "startangle=90, shadow = True, explode = (0, 0, 0.1, 0),\n",
        "radius = 2, autopct = '%1.3f%%')\n",
        "plt.legend(loc =\"lower right\")\n",
        "plt.show()"
      ],
      "metadata": {
        "colab": {
          "base_uri": "https://localhost:8080/",
          "height": 388
        },
        "id": "UDhbNBiE3fmt",
        "outputId": "5ad1e9e6-f24b-4bed-d1c4-b6ae06fe80d3"
      },
      "execution_count": null,
      "outputs": [
        {
          "output_type": "display_data",
          "data": {
            "text/plain": [
              "<Figure size 432x288 with 1 Axes>"
            ],
            "image/png": "[encoded data removed]"
          },
          "metadata": {}
        }
      ]
    },
    {
      "cell_type": "code",
      "source": [
        "x=12,3\n",
        "y=12.3\n",
        "print(\"y=\",y)\n",
        "print(\"x=\",x)\n",
        "print(\"x=\",type(x))\n",
        "print(\"y=\",type(y))"
      ],
      "metadata": {
        "colab": {
          "base_uri": "https://localhost:8080/"
        },
        "id": "cSa8RUYZGsjl",
        "outputId": "b062545f-d755-439c-944c-c8dce0d9169a"
      },
      "execution_count": null,
      "outputs": [
        {
          "output_type": "stream",
          "name": "stdout",
          "text": [
            "y= 12.3\n",
            "x= (12, 3)\n",
            "x= <class 'tuple'>\n",
            "y= <class 'float'>\n"
          ]
        }
      ]
    },
    {
      "cell_type": "code",
      "source": [
        "import math\n",
        "x=15\n",
        "y=12.3\n",
        "x%y\n",
        "print(x%y)\n",
        "print(type(x%y))\n",
        "z=x//y\n",
        "print(z)\n",
        "print(type(z))\n",
        "print(4E-2)\n",
        "print(x**y)\n",
        "print(\"COS(x)=\",math.cos(x))\n",
        "print(\"TAN(y)=\",math.tan(y))\n",
        "print(x==y)"
      ],
      "metadata": {
        "colab": {
          "base_uri": "https://localhost:8080/"
        },
        "id": "gvFyWqv2KTO2",
        "outputId": "25b24d00-70fd-4670-ca6b-c13e4ef041d8"
      },
      "execution_count": null,
      "outputs": [
        {
          "output_type": "stream",
          "name": "stdout",
          "text": [
            "2.6999999999999993\n",
            "<class 'float'>\n",
            "1.0\n",
            "<class 'float'>\n",
            "0.04\n",
            "292363051674415.0\n",
            "COS(x)= -0.7596879128588213\n",
            "TAN(y)= -0.2728546609551249\n",
            "False\n"
          ]
        }
      ]
    },
    {
      "cell_type": "code",
      "source": [
        "# liste à ne pas utiliser comme nom de variable\n",
        "import keyword\n",
        "keyword.kwlist"
      ],
      "metadata": {
        "colab": {
          "base_uri": "https://localhost:8080/"
        },
        "id": "uXvaMVHJN90t",
        "outputId": "c7b25c97-ab28-489e-bcb5-bd32aec9cfad"
      },
      "execution_count": null,
      "outputs": [
        {
          "output_type": "execute_result",
          "data": {
            "text/plain": [
              "['False',\n",
              " 'None',\n",
              " 'True',\n",
              " 'and',\n",
              " 'as',\n",
              " 'assert',\n",
              " 'async',\n",
              " 'await',\n",
              " 'break',\n",
              " 'class',\n",
              " 'continue',\n",
              " 'def',\n",
              " 'del',\n",
              " 'elif',\n",
              " 'else',\n",
              " 'except',\n",
              " 'finally',\n",
              " 'for',\n",
              " 'from',\n",
              " 'global',\n",
              " 'if',\n",
              " 'import',\n",
              " 'in',\n",
              " 'is',\n",
              " 'lambda',\n",
              " 'nonlocal',\n",
              " 'not',\n",
              " 'or',\n",
              " 'pass',\n",
              " 'raise',\n",
              " 'return',\n",
              " 'try',\n",
              " 'while',\n",
              " 'with',\n",
              " 'yield']"
            ]
          },
          "metadata": {},
          "execution_count": 45
        }
      ]
    },
    {
      "cell_type": "code",
      "source": [
        "ch=\"bonjour\"\n",
        "ch1='bonjour'\n",
        "ch2='''bonjour\n",
        "tout le monde'''\n",
        "ch2\n",
        "print(ch2)\n",
        "type(ch2)\n",
        "print(\"j\\'aime\")"
      ],
      "metadata": {
        "colab": {
          "base_uri": "https://localhost:8080/"
        },
        "id": "l1WkAtt7OZY0",
        "outputId": "fd4841f9-a3bd-4d3c-8c26-a794bb8769b5"
      },
      "execution_count": null,
      "outputs": [
        {
          "output_type": "stream",
          "name": "stdout",
          "text": [
            "bonjour\n",
            "tout le monde\n",
            "j'aime\n"
          ]
        }
      ]
    },
    {
      "cell_type": "code",
      "source": [
        "a=1\n",
        "b=12.5\n",
        "a,b=b,a\n",
        "print(\"a=\",a)\n",
        "print(\"b=\",b)"
      ],
      "metadata": {
        "colab": {
          "base_uri": "https://localhost:8080/"
        },
        "id": "rDBxsBaIRipW",
        "outputId": "01a42f34-3e2e-435c-d8c8-a25cbb3c1bde"
      },
      "execution_count": null,
      "outputs": [
        {
          "output_type": "stream",
          "name": "stdout",
          "text": [
            "a= 12.5\n",
            "b= 1\n"
          ]
        }
      ]
    },
    {
      "cell_type": "code",
      "source": [
        "2année1=int(input(\"mettre votre année de naissance: \"))\n",
        "print(année1)\n",
        "année2=input(\"Année de reussite concours: \")\n",
        "print(int(année2)-int(année1))"
      ],
      "metadata": {
        "colab": {
          "base_uri": "https://localhost:8080/"
        },
        "id": "6AgpPj9MS_us",
        "outputId": "1cbf451a-c927-4fb1-8adc-b57b018f55d7"
      },
      "execution_count": null,
      "outputs": [
        {
          "output_type": "stream",
          "name": "stdout",
          "text": [
            "mettre votre année de naissance: 1990\n",
            "1990\n",
            "Année de reussite concours: 2007\n",
            "17\n"
          ]
        }
      ]
    },
    {
      "cell_type": "code",
      "source": [
        ""
      ],
      "metadata": {
        "id": "n26CM5kRq-3I"
      },
      "execution_count": null,
      "outputs": []
    },
    {
      "cell_type": "code",
      "source": [
        "Rayon_Cone=float(input(\"Mettre le rayon du cône (m): \"))\n",
        "Haut_Cone=float(input(\"Mettre la hauteur du cône (m): \"))\n",
        "Volume=(1/3)*3.14*Haut_Cone*((Rayon_Cone)**2)\n",
        "print('Le volume du cone est :',Volume,'m3')\n"
      ],
      "metadata": {
        "colab": {
          "base_uri": "https://localhost:8080/"
        },
        "id": "q5pEIDDCV5FO",
        "outputId": "a0403a21-6fc0-4a66-ac3c-b6907297fe5d"
      },
      "execution_count": null,
      "outputs": [
        {
          "output_type": "stream",
          "name": "stdout",
          "text": [
            "Mettre le rayon du cône (m): 2\n",
            "Mettre la hauteur du cône (m): 4\n",
            "Le volume du cone est : 16.746666666666666 m3\n"
          ]
        }
      ]
    },
    {
      "cell_type": "code",
      "source": [
        "n=input(\"Choisir un entier \")\n",
        "nn=int(n+n)\n",
        "print(nn)\n",
        "nnn=int(n+n+n)\n",
        "print(nnn)\n",
        "print(int(n)+nn+nnn)\n",
        "\n"
      ],
      "metadata": {
        "colab": {
          "base_uri": "https://localhost:8080/"
        },
        "id": "V0GCEbgmX7qM",
        "outputId": "f9626979-be59-4d23-8634-03a7691db5a0"
      },
      "execution_count": null,
      "outputs": [
        {
          "output_type": "stream",
          "name": "stdout",
          "text": [
            "Choisir un entier 5\n",
            "55\n",
            "555\n",
            "615\n"
          ]
        }
      ]
    },
    {
      "cell_type": "code",
      "source": [
        ""
      ],
      "metadata": {
        "id": "-Is9pFsfz0wo"
      },
      "execution_count": null,
      "outputs": []
    },
    {
      "cell_type": "code",
      "source": [
        "x=float(input())\n",
        "y=float(input())\n",
        "z=(x+y)**2\n",
        "print(z)"
      ],
      "metadata": {
        "colab": {
          "base_uri": "https://localhost:8080/"
        },
        "id": "m-M2JsT1ZCzz",
        "outputId": "65934d98-26e3-4beb-fab2-f9f9c260af31"
      },
      "execution_count": null,
      "outputs": [
        {
          "output_type": "stream",
          "name": "stdout",
          "text": [
            "5\n",
            "1\n",
            "36.0\n"
          ]
        }
      ]
    },
    {
      "cell_type": "code",
      "source": [
        "secondes=float(input(\"mettre le nombre de secondes:  \"))\n",
        "Nbre_Jours=float(secondes)/(3600*24)\n",
        "print(int(Nbre_Jours),\"jour\")\n",
        "reste_j=float(secondes)%(3600*24)\n",
        "#print(reste)\n",
        "Nbre_heures=reste_j/3600\n",
        "print(int(Nbre_heures),\"heures\")\n",
        "reste_h=float(reste_j)%3600\n",
        "Nbre_min=reste_h/60\n",
        "print(int(Nbre_min),\"minutes\")\n",
        "Nbresecondes=reste_h%60\n",
        "print(int(Nbresecondes),\"secondes\")"
      ],
      "metadata": {
        "colab": {
          "base_uri": "https://localhost:8080/"
        },
        "id": "7b3s3tp9Zdx0",
        "outputId": "c3875321-555e-42bd-eba9-1a30c23bd3c4"
      },
      "execution_count": null,
      "outputs": [
        {
          "output_type": "stream",
          "name": "stdout",
          "text": [
            "mettre le nombre de secondes:  86400\n",
            "1 jour\n",
            "0 heures\n",
            "0 minutes\n",
            "0 secondes\n"
          ]
        }
      ]
    },
    {
      "cell_type": "code",
      "source": [
        "nbre=float(input(\"Introduire un nombre Ã  4 chiffres:  \"))\n",
        "millier=int(nbre/1000)\n",
        "print(millier)\n",
        "cent=int((int(nbre%1000))/100)\n",
        "print(cent)\n",
        "dizaine=int((int(nbre%1000)%100)/10)\n",
        "print(dizaine)\n",
        "nbre=int(((int(nbre%1000)%100))%10)\n",
        "print(nbre)\n",
        "y=millier+cent+dizaine+nbre\n",
        "print(y)"
      ],
      "metadata": {
        "colab": {
          "base_uri": "https://localhost:8080/"
        },
        "id": "nSzqJY40qMdU",
        "outputId": "c79e47b2-7b8a-4044-ffaa-2251d4e67b1e"
      },
      "execution_count": null,
      "outputs": [
        {
          "output_type": "stream",
          "name": "stdout",
          "text": [
            "Introduire un nombre Ã  4 chiffres:  1256\n",
            "1\n",
            "2\n",
            "5\n",
            "6\n",
            "14\n"
          ]
        }
      ]
    },
    {
      "cell_type": "code",
      "source": [
        "nbre='265'\n",
        "while len(nbre)!=4:\n",
        "  nbre=input(\"Introduire un nombre à 4 chiffres:  \")\n",
        "  nbre1=int(nbre)\n",
        "millier=int(nbre1/1000)\n",
        "print(millier)\n",
        "cent=int((int(nbre1%1000))/100)\n",
        "print(cent)\n",
        "dizaine=int((int(nbre1%1000)%100)/10)\n",
        "print(dizaine)\n",
        "nbre2=int(((int(nbre1%1000)%100))%10)\n",
        "print(nbre2)\n",
        "y=millier+cent+dizaine+nbre2\n",
        "print(y)\n"
      ],
      "metadata": {
        "colab": {
          "base_uri": "https://localhost:8080/"
        },
        "id": "Vszr-htfqSOU",
        "outputId": "83d2c727-ed3b-4ad3-c01f-bf5354d2b50f"
      },
      "execution_count": null,
      "outputs": [
        {
          "output_type": "stream",
          "name": "stdout",
          "text": [
            "Introduire un nombre à 4 chiffres:  2\n",
            "Introduire un nombre à 4 chiffres:  25\n",
            "Introduire un nombre à 4 chiffres:  1256\n",
            "1\n",
            "2\n",
            "5\n",
            "6\n",
            "14\n"
          ]
        }
      ]
    },
    {
      "cell_type": "code",
      "source": [
        "CHAINE='formation otn'\n",
        "y=CHAINE[4]\n",
        "print(y)\n",
        "print(CHAINE[:3])\n",
        "print(CHAINE[0:9:2])\n"
      ],
      "metadata": {
        "colab": {
          "base_uri": "https://localhost:8080/"
        },
        "id": "FuULu71ntwQm",
        "outputId": "2217799a-0a8a-49f8-fab5-a7679e6526e4"
      },
      "execution_count": null,
      "outputs": [
        {
          "output_type": "stream",
          "name": "stdout",
          "text": [
            "a\n",
            "for\n",
            "frain\n"
          ]
        }
      ]
    },
    {
      "cell_type": "code",
      "source": [
        "#Exercice 1\n",
        "\n",
        "ch=input(\"Choisir un mot:  \")\n",
        "first=ch[0]\n",
        "print(\"Première lettre\",first)\n",
        "ch1=ch[1::]\n",
        "ch1=ch1.replace(first,'*')\n",
        "ch2=first+ch1\n",
        "print(ch2)\n"
      ],
      "metadata": {
        "colab": {
          "base_uri": "https://localhost:8080/"
        },
        "id": "Kc_DJmaJz1xF",
        "outputId": "20dc96c7-3079-43be-c1c8-77b969c3b090"
      },
      "execution_count": null,
      "outputs": [
        {
          "output_type": "stream",
          "name": "stdout",
          "text": [
            "Choisir un mot:  oreedoo\n",
            "Première lettre o\n",
            "oreed**\n"
          ]
        }
      ]
    },
    {
      "cell_type": "code",
      "source": [
        "#Exercice 2\n",
        "\n",
        "ch1=input(\"Introduire le premier mot:  \")\n",
        "ch2=input(\"Introduire le deuxième mot:  \")\n",
        "chh1=ch1[0:2]\n",
        "chh2=ch2[0:2]\n",
        "print(chh1)\n",
        "print(chh2)\n",
        "a=ch1.replace (chh1,chh2) \n",
        "print(a)\n",
        "b=ch2.replace (chh2,chh1) \n",
        "print(b)\n",
        "\n"
      ],
      "metadata": {
        "colab": {
          "base_uri": "https://localhost:8080/"
        },
        "id": "CHcjflDP4epw",
        "outputId": "ea88ee0a-394a-4218-c8be-b6db199c9f0d"
      },
      "execution_count": null,
      "outputs": [
        {
          "output_type": "stream",
          "name": "stdout",
          "text": [
            "Introduire le premier mot:  test\n",
            "Introduire le deuxième mot:  robert\n",
            "te\n",
            "ro\n",
            "rost\n",
            "tebert\n"
          ]
        }
      ]
    },
    {
      "cell_type": "code",
      "source": [
        "#Exercice3 Ecrire un code Python qui permet de supprimer le nième caractère d’une chaine sachant que \n",
        "la chaine et la n sont donnés par l’utilisateur\n",
        "\n",
        "ch1=input(\"Merci d'introduire une chaine de caractère  \")\n",
        "long=len(ch1)\n",
        "mesg=\"Merci d'indiquer le numéro de chaine à supprimer entre 1 et \"+str(long)+\":  \"\n",
        "ch2=int(input(mesg))\n",
        "ch1=ch1[:ch2-1]+ch1[ch2:]\n",
        "print(ch1)\n"
      ],
      "metadata": {
        "colab": {
          "base_uri": "https://localhost:8080/"
        },
        "id": "0Coa6XBUrCqo",
        "outputId": "bf17330e-48ae-4967-c8e1-eea222c7e415"
      },
      "execution_count": 14,
      "outputs": [
        {
          "output_type": "stream",
          "name": "stdout",
          "text": [
            "Merci d'introduire une chaine de caractère  bambino\n",
            "Merci d'indiquer le numéro de chaine à supprimer entre 1 et 7:  7\n",
            "bambin\n"
          ]
        }
      ]
    },
    {
      "cell_type": "code",
      "source": [
        "#Exercice3 Ecrire un code Python pour intervertir le premier et le dernier caractère d’une chaine de caractères saisie par l’utilisateur comme indiqué dans la figure suivante (eereur)\n",
        "ch1=input(\"Merci d'introduire une chaine de caractère  \")\n",
        "long=len(ch1)\n",
        "ch2=ch1[0]\n",
        "ch3=ch1[long-1]\n",
        "print(ch2)\n",
        "print(ch3)\n",
        "print(ch1[1:])\n",
        "b=ch3+ch1[1:long-1]+ch2\n",
        "print(b)"
      ],
      "metadata": {
        "colab": {
          "base_uri": "https://localhost:8080/"
        },
        "id": "bsgPoCosvFmg",
        "outputId": "70e7063b-3eab-41c0-f53b-f182657c9da5"
      },
      "execution_count": 42,
      "outputs": [
        {
          "output_type": "stream",
          "name": "stdout",
          "text": [
            "Merci d'introduire une chaine de caractère  bambino\n",
            "b\n",
            "o\n",
            "ambino\n",
            "oambinb\n"
          ]
        }
      ]
    },
    {
      "cell_type": "code",
      "source": [
        "#Exercice 4 \n",
        "txt='''Python est le langage de programmation open source le plus\n",
        "employé par les informaticiens. Ce langage s’est propulsé en tête de la\n",
        "gestion d’infrastructure, d’analyse de données ou dans le domaine du\n",
        "développement de logiciels. En effet, parmi ses qualités, Python permet\n",
        "notamment aux développeurs de se concentrer sur ce qu’ils font plutôt\n",
        "que sur la manière dont ils le font. Il a libéré les développeurs des\n",
        "contraintes de formes qui occupaient leur temps avec les langages plus\n",
        "anciens. Ainsi, développer du code avec Python est plus rapide qu’avec d’autres\n",
        "langages.'''\n",
        "#2- Comment on peut récupérer la taille de cette chaine de caractère ?\n",
        "\n",
        "lon=len(txt)\n",
        "print(lon)\n",
        "#3- Donner l’instruction qui permet de générer les mots qui constituent ce texte.\n",
        "\n",
        "print(txt.split())\n",
        "#5- Quelle instruction il faut utiliser pour effectuer ce split selon le mot ‘le’ ?\n",
        "\n",
        "print(txt.split('le'))\n",
        "#6- Conclure sur l’instruction à utiliser pour séparer le texte en des phrases.\n",
        "\n",
        "print(txt.split('.'))\n",
        "#Quelle instruction on peut utiliser pour transformer tout le texte en majuscule\n",
        "print(txt.upper())\n",
        "#Quelle instruction on peut utiliser pour transformer tout le texte en miniscule\n",
        "print(txt.lower())\n",
        "#En utilisant les méthodes startswith() et endswith()vérifier si oui ou nom notre texte commence par ‘Py’ et se termine par ‘ga’.\n",
        "\n",
        "dd=txt.startswith('Py', 0, len(txt))\n",
        "print(dd)\n",
        "cc=txt.endswith('ga', 0, len(txt))\n",
        "print(cc)\n",
        "#9- Donner l’instruction qui permet d’ajouter à notre texte la phrase suivante : \n",
        "\n",
        "MAJ=txt+\"Dans cette formation on va voir à quoi peut servir Python.\"\n",
        "print(MAJ)\n",
        "\n",
        "# Donner l’instruction qui permet d’afficher la position du mot ‘programmation’ dans le texte en utilisant la fonction find().\n",
        "print(txt.find('programmation'))\n",
        "\n",
        "print(txt.count('langage'))\n",
        "#3- Donner l’instruction qui permet de remplacer le mot ‘domaine’ par ‘secteur’ dans notre texte en utilisant la fonction replace.\n",
        "bb=txt.replace('domaine','secteur')\n",
        "print(bb)"
      ],
      "metadata": {
        "colab": {
          "base_uri": "https://localhost:8080/"
        },
        "id": "HzJoIjdiypTQ",
        "outputId": "ab30fbb0-ee5e-41fb-8c0a-aa365fbe9423"
      },
      "execution_count": 76,
      "outputs": [
        {
          "output_type": "stream",
          "name": "stdout",
          "text": [
            "572\n",
            "['Python', 'est', 'le', 'langage', 'de', 'programmation', 'open', 'source', 'le', 'plus', 'employé', 'par', 'les', 'informaticiens.', 'Ce', 'langage', 's’est', 'propulsé', 'en', 'tête', 'de', 'la', 'gestion', 'd’infrastructure,', 'd’analyse', 'de', 'données', 'ou', 'dans', 'le', 'domaine', 'du', 'développement', 'de', 'logiciels.', 'En', 'effet,', 'parmi', 'ses', 'qualités,', 'Python', 'permet', 'notamment', 'aux', 'développeurs', 'de', 'se', 'concentrer', 'sur', 'ce', 'qu’ils', 'font', 'plutôt', 'que', 'sur', 'la', 'manière', 'dont', 'ils', 'le', 'font.', 'Il', 'a', 'libéré', 'les', 'développeurs', 'des', 'contraintes', 'de', 'formes', 'qui', 'occupaient', 'leur', 'temps', 'avec', 'les', 'langages', 'plus', 'anciens.', 'Ainsi,', 'développer', 'du', 'code', 'avec', 'Python', 'est', 'plus', 'rapide', 'qu’avec', 'd’autres', 'langages.']\n",
            "['Python est ', ' langage de programmation open source ', ' plus\\nemployé par ', 's informaticiens. Ce langage s’est propulsé en tête de la\\ngestion d’infrastructure, d’analyse de données ou dans ', ' domaine du\\ndéveloppement de logiciels. En effet, parmi ses qualités, Python permet\\nnotamment aux développeurs de se concentrer sur ce qu’ils font plutôt\\nque sur la manière dont ils ', ' font. Il a libéré ', 's développeurs des\\ncontraintes de formes qui occupaient ', 'ur temps avec ', 's langages plus\\nanciens. Ainsi, développer du code avec Python est plus rapide qu’avec d’autres\\nlangages.']\n",
            "['Python est le langage de programmation open source le plus\\nemployé par les informaticiens', ' Ce langage s’est propulsé en tête de la\\ngestion d’infrastructure, d’analyse de données ou dans le domaine du\\ndéveloppement de logiciels', ' En effet, parmi ses qualités, Python permet\\nnotamment aux développeurs de se concentrer sur ce qu’ils font plutôt\\nque sur la manière dont ils le font', ' Il a libéré les développeurs des\\ncontraintes de formes qui occupaient leur temps avec les langages plus\\nanciens', ' Ainsi, développer du code avec Python est plus rapide qu’avec d’autres\\nlangages', '']\n",
            "PYTHON EST LE LANGAGE DE PROGRAMMATION OPEN SOURCE LE PLUS\n",
            "EMPLOYÉ PAR LES INFORMATICIENS. CE LANGAGE S’EST PROPULSÉ EN TÊTE DE LA\n",
            "GESTION D’INFRASTRUCTURE, D’ANALYSE DE DONNÉES OU DANS LE DOMAINE DU\n",
            "DÉVELOPPEMENT DE LOGICIELS. EN EFFET, PARMI SES QUALITÉS, PYTHON PERMET\n",
            "NOTAMMENT AUX DÉVELOPPEURS DE SE CONCENTRER SUR CE QU’ILS FONT PLUTÔT\n",
            "QUE SUR LA MANIÈRE DONT ILS LE FONT. IL A LIBÉRÉ LES DÉVELOPPEURS DES\n",
            "CONTRAINTES DE FORMES QUI OCCUPAIENT LEUR TEMPS AVEC LES LANGAGES PLUS\n",
            "ANCIENS. AINSI, DÉVELOPPER DU CODE AVEC PYTHON EST PLUS RAPIDE QU’AVEC D’AUTRES\n",
            "LANGAGES.\n",
            "python est le langage de programmation open source le plus\n",
            "employé par les informaticiens. ce langage s’est propulsé en tête de la\n",
            "gestion d’infrastructure, d’analyse de données ou dans le domaine du\n",
            "développement de logiciels. en effet, parmi ses qualités, python permet\n",
            "notamment aux développeurs de se concentrer sur ce qu’ils font plutôt\n",
            "que sur la manière dont ils le font. il a libéré les développeurs des\n",
            "contraintes de formes qui occupaient leur temps avec les langages plus\n",
            "anciens. ainsi, développer du code avec python est plus rapide qu’avec d’autres\n",
            "langages.\n",
            "True\n",
            "False\n",
            "Python est le langage de programmation open source le plus\n",
            "employé par les informaticiens. Ce langage s’est propulsé en tête de la\n",
            "gestion d’infrastructure, d’analyse de données ou dans le domaine du\n",
            "développement de logiciels. En effet, parmi ses qualités, Python permet\n",
            "notamment aux développeurs de se concentrer sur ce qu’ils font plutôt\n",
            "que sur la manière dont ils le font. Il a libéré les développeurs des\n",
            "contraintes de formes qui occupaient leur temps avec les langages plus\n",
            "anciens. Ainsi, développer du code avec Python est plus rapide qu’avec d’autres\n",
            "langages.Dans cette formation on va voir à quoi peut servir Python.\n",
            "25\n",
            "4\n",
            "Python est le langage de programmation open source le plus\n",
            "employé par les informaticiens. Ce langage s’est propulsé en tête de la\n",
            "gestion d’infrastructure, d’analyse de données ou dans le secteur du\n",
            "développement de logiciels. En effet, parmi ses qualités, Python permet\n",
            "notamment aux développeurs de se concentrer sur ce qu’ils font plutôt\n",
            "que sur la manière dont ils le font. Il a libéré les développeurs des\n",
            "contraintes de formes qui occupaient leur temps avec les langages plus\n",
            "anciens. Ainsi, développer du code avec Python est plus rapide qu’avec d’autres\n",
            "langages.\n"
          ]
        }
      ]
    }
  ]
}