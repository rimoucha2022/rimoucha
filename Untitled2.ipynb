{
  "nbformat": 4,
  "nbformat_minor": 0,
  "metadata": {
    "colab": {
      "name": "Untitled2.ipynb",
      "provenance": [],
      "authorship_tag": "ABX9TyNf/ScwnrBwRSRoX1cbnE4t",
      "include_colab_link": true
    },
    "kernelspec": {
      "name": "python3",
      "display_name": "Python 3"
    },
    "language_info": {
      "name": "python"
    }
  },
  "cells": [
    {
      "cell_type": "markdown",
      "metadata": {
        "id": "view-in-github",
        "colab_type": "text"
      },
      "source": [
        "<a href=\"https://colab.research.google.com/github/rimoucha2022/rimoucha/blob/main/Untitled2.ipynb\" target=\"_parent\"><img src=\"https://colab.research.google.com/assets/colab-badge.svg\" alt=\"Open In Colab\"/></a>"
      ]
    },
    {
      "cell_type": "code",
      "execution_count": null,
      "metadata": {
        "colab": {
          "base_uri": "https://localhost:8080/"
        },
        "id": "wvE8nYND4066",
        "outputId": "b45f08ca-977f-4cf0-d525-bb76f5956755"
      },
      "outputs": [
        {
          "output_type": "stream",
          "name": "stdout",
          "text": [
            "This message is from an external module\n",
            "2.772588722239781\n",
            "8886110.520507872\n"
          ]
        }
      ],
      "source": [
        "import test as tst\n",
        "tst.print_text()\n",
        "print(tst.find_log(16))\n",
        "print(tst.find_exp(16))"
      ]
    },
    {
      "cell_type": "code",
      "source": [
        "from test import find_log\n",
        "print(find_log(16))"
      ],
      "metadata": {
        "colab": {
          "base_uri": "https://localhost:8080/"
        },
        "id": "SenWct_371jx",
        "outputId": "38ba066d-165b-4636-d5cb-e8605b2eb0d6"
      },
      "execution_count": null,
      "outputs": [
        {
          "output_type": "stream",
          "name": "stdout",
          "text": [
            "2.772588722239781\n"
          ]
        }
      ]
    },
    {
      "cell_type": "code",
      "source": [
        "from test import find_log,find_exp\n",
        "print(find_log(16))\n",
        "print(find_exp(16))"
      ],
      "metadata": {
        "colab": {
          "base_uri": "https://localhost:8080/"
        },
        "id": "sWSlT6AX80Rv",
        "outputId": "1c3f690c-b462-442d-f1ed-598c7d24aacd"
      },
      "execution_count": null,
      "outputs": [
        {
          "output_type": "stream",
          "name": "stdout",
          "text": [
            "2.772588722239781\n",
            "8886110.520507872\n"
          ]
        }
      ]
    },
    {
      "cell_type": "code",
      "source": [
        "import sys\n",
        "sys.path.append('C:\\Datasets')\n",
        "sys.path\n",
        "from test2 import find_sqrt\n",
        "print(find_sqrt(16))\n"
      ],
      "metadata": {
        "colab": {
          "base_uri": "https://localhost:8080/"
        },
        "id": "wKHe-ZZC9uwy",
        "outputId": "cf45e8e1-45ea-4ba0-b444-48508e214c86"
      },
      "execution_count": null,
      "outputs": [
        {
          "output_type": "stream",
          "name": "stdout",
          "text": [
            "256\n"
          ]
        }
      ]
    },
    {
      "cell_type": "code",
      "source": [
        "def sum_of_list(numbers):\n",
        "  return sum(numbers)\n",
        "def average(sum, n):\n",
        "  return sum / n\n",
        "def final_data(data):\n",
        "for item in data:\n",
        "print(\"Average:\", average(sum_of_list(item), len(item)))\n",
        "list1 = [10, 20, 30, 40, 50]\n",
        "list2 = [100, 200, 300, 400, 500]\n",
        "# empty list\n",
        "list3 = []\n",
        "lists = [list1, list2, list3]\n",
        "final_data(lists)"
      ],
      "metadata": {
        "colab": {
          "base_uri": "https://localhost:8080/",
          "height": 130
        },
        "id": "55EtLKaf31By",
        "outputId": "3554a93b-a15c-43a4-c67b-8cb9a1ebcdc6"
      },
      "execution_count": 1,
      "outputs": [
        {
          "output_type": "error",
          "ename": "IndentationError",
          "evalue": "ignored",
          "traceback": [
            "\u001b[0;36m  File \u001b[0;32m\"<ipython-input-1-5fbf4b2401c2>\"\u001b[0;36m, line \u001b[0;32m2\u001b[0m\n\u001b[0;31m    return sum(numbers)\u001b[0m\n\u001b[0m         ^\u001b[0m\n\u001b[0;31mIndentationError\u001b[0m\u001b[0;31m:\u001b[0m expected an indented block\n"
          ]
        }
      ]
    },
    {
      "cell_type": "code",
      "source": [
        "a = 1\n",
        "strs = \"hello\"\n",
        "def func(a):\n",
        "    res = str(a) + strs\n",
        "    print(res)\n",
        "    return res\n",
        "b=func(4)\n",
        "  "
      ],
      "metadata": {
        "colab": {
          "base_uri": "https://localhost:8080/"
        },
        "id": "qotrqQkY5VpR",
        "outputId": "7bc5c02e-9195-4ddf-e3b5-3f66e57fa7d3"
      },
      "execution_count": 22,
      "outputs": [
        {
          "output_type": "stream",
          "name": "stdout",
          "text": [
            "4hello\n"
          ]
        }
      ]
    },
    {
      "cell_type": "code",
      "source": [
        "a = 1\n",
        "strs = \"hello\"\n",
        "def func(a):\n",
        "  try:\n",
        "    res = a + strs\n",
        "    print(res)\n",
        "    return res\n",
        "  except TypeError:\n",
        "    print(\"il faut mettre une chaine de caractère  \")\n",
        "  finally:\n",
        "    res = str(a) + strs\n",
        "b=func(4)\n",
        "  "
      ],
      "metadata": {
        "colab": {
          "base_uri": "https://localhost:8080/"
        },
        "id": "P0zmkuO88IfE",
        "outputId": "407e574f-6c59-4a0a-d4d6-d8994461320c"
      },
      "execution_count": 29,
      "outputs": [
        {
          "output_type": "stream",
          "name": "stdout",
          "text": [
            "il faut mettre une chaine de caractère  \n"
          ]
        }
      ]
    },
    {
      "cell_type": "code",
      "source": [
        "#Exercice N° 3\n",
        "var = 10\n",
        "def test_func():\n",
        "  global var\n",
        "  var += 1\n",
        "  print(var)\n",
        "test_func()"
      ],
      "metadata": {
        "colab": {
          "base_uri": "https://localhost:8080/"
        },
        "id": "UocjxVEr9NYB",
        "outputId": "78422bb0-d10b-4871-e14e-e27a7ad59685"
      },
      "execution_count": 37,
      "outputs": [
        {
          "output_type": "stream",
          "name": "stdout",
          "text": [
            "11\n"
          ]
        }
      ]
    },
    {
      "cell_type": "code",
      "source": [
        "#Exercice N° 3\n",
        "var = 10\n",
        "def test_func(var):\n",
        "  var += 1\n",
        "  print(var)\n",
        "test_func(12)"
      ],
      "metadata": {
        "colab": {
          "base_uri": "https://localhost:8080/"
        },
        "id": "gcZmzmX-96lx",
        "outputId": "96207cbb-5e7d-4fe9-fcee-2b339d3dee2a"
      },
      "execution_count": 39,
      "outputs": [
        {
          "output_type": "stream",
          "name": "stdout",
          "text": [
            "13\n"
          ]
        }
      ]
    },
    {
      "cell_type": "code",
      "source": [
        "score=150\n",
        "#while i not in range(0,100):\n",
        "while score < 0 or score > 100:\n",
        "  score = int(input(\"Enter your score between 0 and 100: \"))\n",
        "def calculate_level(score):\n",
        "  if score > 90:\n",
        "    level = 'expert'\n",
        "  elif score > 70:\n",
        "    level = 'advanced'\n",
        "  elif score > 55:\n",
        "    level = 'intermediate'\n",
        "  else:\n",
        "    level ='debutant'\n",
        "  return level\n",
        "print(f'Your level is: {calculate_level(score)}')"
      ],
      "metadata": {
        "colab": {
          "base_uri": "https://localhost:8080/"
        },
        "id": "IF9zf7M9-KL4",
        "outputId": "defce214-fdc8-4b49-a6e7-92b65c5c77fb"
      },
      "execution_count": 70,
      "outputs": [
        {
          "output_type": "stream",
          "name": "stdout",
          "text": [
            "Enter your score between 0 and 100: -1\n",
            "Enter your score between 0 and 100: 20\n",
            "Your level is: debutant\n"
          ]
        }
      ]
    },
    {
      "cell_type": "markdown",
      "source": [
        ""
      ],
      "metadata": {
        "id": "mi4tKelvSUZJ"
      }
    },
    {
      "cell_type": "code",
      "source": [
        "#Exercice N° 1 Ecrire un code en Python qui permet de définir une fonction pour chercher la valeur maximales parmi les éléments d’une liste d’entiers.\n",
        "list20=[2,50,98,67,101,-2]\n",
        "i=0\n",
        "while i < (len(list20)-1):\n",
        "  if list20[i]>list20[i+1]:\n",
        "    Max1=list20[i]\n",
        "  else:\n",
        "    Max1=list20[i+1]\n",
        "  i=i+1\n",
        "print(Max1)\n",
        "\n"
      ],
      "metadata": {
        "colab": {
          "base_uri": "https://localhost:8080/"
        },
        "id": "9toUtECrR5y0",
        "outputId": "06fce505-ba60-48d4-eefb-6bcfc770fc61"
      },
      "execution_count": 77,
      "outputs": [
        {
          "output_type": "stream",
          "name": "stdout",
          "text": [
            "101\n"
          ]
        }
      ]
    },
    {
      "cell_type": "code",
      "source": [
        "liste11=['ma', 'dodo', 'soap','test','f','3','dad','re']\n",
        "liste22=[]\n",
        "i=0\n",
        "while i < (len(liste11)):\n",
        "  if (len(liste11[i]) > 2 or len(liste11[i]) == 2):\n",
        "    liste22.append(liste11[i])\n",
        "  i=i+1\n",
        "print(liste22)\n",
        "liste33=[]\n",
        "i=0\n",
        "while i < (len(liste11)):\n",
        "  ch1=liste11[i]\n",
        "  if len(ch1)!=1 and ch1[0]==ch1[len(ch1)-1]:\n",
        "    liste33.append(liste11[i])\n",
        "  i=i+1\n",
        "print(liste33)"
      ],
      "metadata": {
        "colab": {
          "base_uri": "https://localhost:8080/"
        },
        "id": "OlAHzKsbUL2E",
        "outputId": "85ee2242-1274-4880-d11e-1e3d5c86d0c9"
      },
      "execution_count": 89,
      "outputs": [
        {
          "output_type": "stream",
          "name": "stdout",
          "text": [
            "['ma', 'dodo', 'soap', 'test', 'dad', 're']\n",
            "['test', 'dad']\n"
          ]
        }
      ]
    },
    {
      "cell_type": "code",
      "source": [
        "#Exercice N° 2 Écrivez un programme Python qui contient une fonction permettant de compter le nombre de chaînes dont la taille au moins est égale à 2\n",
        "liste11=['ma', 'dodo','mom','soap','test','f','3','dad','re']\n",
        "liste22=[]\n",
        "i=0\n",
        "while i < (len(liste11)):\n",
        "  ch1=liste11[i]\n",
        "  if (len(liste11[i]) >= 2) and ch1[0]==ch1[-1]:\n",
        "    liste22.append(liste11[i])\n",
        "  i=i+1\n",
        "print(liste22)"
      ],
      "metadata": {
        "colab": {
          "base_uri": "https://localhost:8080/"
        },
        "id": "woQnGLdwY56S",
        "outputId": "5067c99b-f876-4188-91e2-89b5c18aa27b"
      },
      "execution_count": 98,
      "outputs": [
        {
          "output_type": "stream",
          "name": "stdout",
          "text": [
            "['mom', 'test', 'dad']\n"
          ]
        }
      ]
    },
    {
      "cell_type": "code",
      "source": [
        "#Exercice N° 3 Ecrire un code Python qui permet de supprimer toutes les valeurs multiples dans une liste donnée et ne garder qu’une seule occurrence.\n",
        "liste12=['dodo', 'dodo','mom','dodo','test','f','3','dad','re']\n",
        "liste11\n",
        "i=0\n",
        "y=len(liste12)\n",
        "while i < (len(liste11)):\n",
        "  while y>0:\n",
        "    if liste12[i]==liste12[y-1]:\n",
        "      del liste12[i]\n",
        "    y=y-1\n",
        "  i=i+1\n",
        "print(liste12)\n"
      ],
      "metadata": {
        "colab": {
          "base_uri": "https://localhost:8080/"
        },
        "id": "gY3mLornaU5Z",
        "outputId": "1e066a95-3a5e-49d3-f28d-965076c2ef33"
      },
      "execution_count": 113,
      "outputs": [
        {
          "output_type": "stream",
          "name": "stdout",
          "text": [
            "['dodo', 'test', 'f', '3', 'dad', 're', 'dad']\n"
          ]
        }
      ]
    },
    {
      "cell_type": "code",
      "source": [
        "#Dictionnaire\n",
        "d=dict()\n",
        "n=6\n",
        "i=0\n",
        "while i < n:\n",
        "  d[i]=i*i\n",
        "  i=i+1\n",
        "print(d)\n"
      ],
      "metadata": {
        "colab": {
          "base_uri": "https://localhost:8080/"
        },
        "id": "GS9fZGRTfz04",
        "outputId": "f8f25928-199d-4561-8fdb-cefc09305279"
      },
      "execution_count": 123,
      "outputs": [
        {
          "output_type": "stream",
          "name": "stdout",
          "text": [
            "{0: 0, 1: 1, 2: 4, 3: 9, 4: 16, 5: 25}\n"
          ]
        }
      ]
    }
  ]
}