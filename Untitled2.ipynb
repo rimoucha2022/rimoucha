{
  "nbformat": 4,
  "nbformat_minor": 0,
  "metadata": {
    "colab": {
      "name": "Untitled2.ipynb",
      "provenance": [],
      "authorship_tag": "ABX9TyOjeBOasSd/DH4dUUEqfj7s",
      "include_colab_link": true
    },
    "kernelspec": {
      "name": "python3",
      "display_name": "Python 3"
    },
    "language_info": {
      "name": "python"
    }
  },
  "cells": [
    {
      "cell_type": "markdown",
      "metadata": {
        "id": "view-in-github",
        "colab_type": "text"
      },
      "source": [
        "<a href=\"https://colab.research.google.com/github/rimoucha2022/rimoucha/blob/main/Untitled2.ipynb\" target=\"_parent\"><img src=\"https://colab.research.google.com/assets/colab-badge.svg\" alt=\"Open In Colab\"/></a>"
      ]
    },
    {
      "cell_type": "code",
      "execution_count": null,
      "metadata": {
        "colab": {
          "base_uri": "https://localhost:8080/"
        },
        "id": "wvE8nYND4066",
        "outputId": "b45f08ca-977f-4cf0-d525-bb76f5956755"
      },
      "outputs": [
        {
          "output_type": "stream",
          "name": "stdout",
          "text": [
            "This message is from an external module\n",
            "2.772588722239781\n",
            "8886110.520507872\n"
          ]
        }
      ],
      "source": [
        "import test as tst\n",
        "tst.print_text()\n",
        "print(tst.find_log(16))\n",
        "print(tst.find_exp(16))"
      ]
    },
    {
      "cell_type": "code",
      "source": [
        "from test import find_log\n",
        "print(find_log(16))"
      ],
      "metadata": {
        "colab": {
          "base_uri": "https://localhost:8080/"
        },
        "id": "SenWct_371jx",
        "outputId": "38ba066d-165b-4636-d5cb-e8605b2eb0d6"
      },
      "execution_count": null,
      "outputs": [
        {
          "output_type": "stream",
          "name": "stdout",
          "text": [
            "2.772588722239781\n"
          ]
        }
      ]
    },
    {
      "cell_type": "code",
      "source": [
        "from test import find_log,find_exp\n",
        "print(find_log(16))\n",
        "print(find_exp(16))"
      ],
      "metadata": {
        "colab": {
          "base_uri": "https://localhost:8080/"
        },
        "id": "sWSlT6AX80Rv",
        "outputId": "1c3f690c-b462-442d-f1ed-598c7d24aacd"
      },
      "execution_count": null,
      "outputs": [
        {
          "output_type": "stream",
          "name": "stdout",
          "text": [
            "2.772588722239781\n",
            "8886110.520507872\n"
          ]
        }
      ]
    },
    {
      "cell_type": "code",
      "source": [
        "import sys\n",
        "sys.path.append('C:\\Datasets')\n",
        "sys.path\n",
        "from test2 import find_sqrt\n",
        "print(find_sqrt(16))\n"
      ],
      "metadata": {
        "colab": {
          "base_uri": "https://localhost:8080/"
        },
        "id": "wKHe-ZZC9uwy",
        "outputId": "cf45e8e1-45ea-4ba0-b444-48508e214c86"
      },
      "execution_count": null,
      "outputs": [
        {
          "output_type": "stream",
          "name": "stdout",
          "text": [
            "256\n"
          ]
        }
      ]
    },
    {
      "cell_type": "code",
      "source": [
        "def sum_of_list(numbers):\n",
        "  return sum(numbers)\n",
        "def average(sum, n):\n",
        "  return sum / n\n",
        "def final_data(data):\n",
        "for item in data:\n",
        "print(\"Average:\", average(sum_of_list(item), len(item)))\n",
        "list1 = [10, 20, 30, 40, 50]\n",
        "list2 = [100, 200, 300, 400, 500]\n",
        "# empty list\n",
        "list3 = []\n",
        "lists = [list1, list2, list3]\n",
        "final_data(lists)"
      ],
      "metadata": {
        "colab": {
          "base_uri": "https://localhost:8080/",
          "height": 130
        },
        "id": "55EtLKaf31By",
        "outputId": "3554a93b-a15c-43a4-c67b-8cb9a1ebcdc6"
      },
      "execution_count": 1,
      "outputs": [
        {
          "output_type": "error",
          "ename": "IndentationError",
          "evalue": "ignored",
          "traceback": [
            "\u001b[0;36m  File \u001b[0;32m\"<ipython-input-1-5fbf4b2401c2>\"\u001b[0;36m, line \u001b[0;32m2\u001b[0m\n\u001b[0;31m    return sum(numbers)\u001b[0m\n\u001b[0m         ^\u001b[0m\n\u001b[0;31mIndentationError\u001b[0m\u001b[0;31m:\u001b[0m expected an indented block\n"
          ]
        }
      ]
    },
    {
      "cell_type": "code",
      "source": [
        "a = 1\n",
        "strs = \"hello\"\n",
        "def func(a):\n",
        "    res = str(a) + strs\n",
        "    print(res)\n",
        "    return res\n",
        "b=func(4)\n",
        "  "
      ],
      "metadata": {
        "colab": {
          "base_uri": "https://localhost:8080/"
        },
        "id": "qotrqQkY5VpR",
        "outputId": "7bc5c02e-9195-4ddf-e3b5-3f66e57fa7d3"
      },
      "execution_count": 22,
      "outputs": [
        {
          "output_type": "stream",
          "name": "stdout",
          "text": [
            "4hello\n"
          ]
        }
      ]
    },
    {
      "cell_type": "code",
      "source": [
        "a = 1\n",
        "strs = \"hello\"\n",
        "def func(a):\n",
        "  try:\n",
        "    res = a + strs\n",
        "    print(res)\n",
        "    return res\n",
        "  except TypeError:\n",
        "    print(\"il faut mettre une chaine de caractère  \")\n",
        "  finally:\n",
        "    res = str(a) + strs\n",
        "b=func(4)\n",
        "  "
      ],
      "metadata": {
        "colab": {
          "base_uri": "https://localhost:8080/"
        },
        "id": "P0zmkuO88IfE",
        "outputId": "407e574f-6c59-4a0a-d4d6-d8994461320c"
      },
      "execution_count": 29,
      "outputs": [
        {
          "output_type": "stream",
          "name": "stdout",
          "text": [
            "il faut mettre une chaine de caractère  \n"
          ]
        }
      ]
    },
    {
      "cell_type": "code",
      "source": [
        "var = 10\n",
        "def test_func():\n",
        "  global var\n",
        "  var += 1\n",
        "  print(var)\n",
        "test_func()"
      ],
      "metadata": {
        "colab": {
          "base_uri": "https://localhost:8080/"
        },
        "id": "UocjxVEr9NYB",
        "outputId": "78422bb0-d10b-4871-e14e-e27a7ad59685"
      },
      "execution_count": 37,
      "outputs": [
        {
          "output_type": "stream",
          "name": "stdout",
          "text": [
            "11\n"
          ]
        }
      ]
    },
    {
      "cell_type": "code",
      "source": [
        "var = 10\n",
        "def test_func(var):\n",
        "  var += 1\n",
        "  print(var)\n",
        "test_func(12)"
      ],
      "metadata": {
        "colab": {
          "base_uri": "https://localhost:8080/"
        },
        "id": "gcZmzmX-96lx",
        "outputId": "96207cbb-5e7d-4fe9-fcee-2b339d3dee2a"
      },
      "execution_count": 39,
      "outputs": [
        {
          "output_type": "stream",
          "name": "stdout",
          "text": [
            "13\n"
          ]
        }
      ]
    }
  ]
}