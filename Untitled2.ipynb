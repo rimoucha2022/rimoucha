{
  "nbformat": 4,
  "nbformat_minor": 0,
  "metadata": {
    "colab": {
      "name": "Untitled2.ipynb",
      "provenance": [],
      "authorship_tag": "ABX9TyMqnncZwTijSwm2PeBCsn1c",
      "include_colab_link": true
    },
    "kernelspec": {
      "name": "python3",
      "display_name": "Python 3"
    },
    "language_info": {
      "name": "python"
    }
  },
  "cells": [
    {
      "cell_type": "markdown",
      "metadata": {
        "id": "view-in-github",
        "colab_type": "text"
      },
      "source": [
        "<a href=\"https://colab.research.google.com/github/rimoucha2022/rimoucha/blob/main/Untitled2.ipynb\" target=\"_parent\"><img src=\"https://colab.research.google.com/assets/colab-badge.svg\" alt=\"Open In Colab\"/></a>"
      ]
    },
    {
      "cell_type": "code",
      "execution_count": 5,
      "metadata": {
        "colab": {
          "base_uri": "https://localhost:8080/"
        },
        "id": "wvE8nYND4066",
        "outputId": "b45f08ca-977f-4cf0-d525-bb76f5956755"
      },
      "outputs": [
        {
          "output_type": "stream",
          "name": "stdout",
          "text": [
            "This message is from an external module\n",
            "2.772588722239781\n",
            "8886110.520507872\n"
          ]
        }
      ],
      "source": [
        "import test as tst\n",
        "tst.print_text()\n",
        "print(tst.find_log(16))\n",
        "print(tst.find_exp(16))"
      ]
    },
    {
      "cell_type": "code",
      "source": [
        "from test import find_log\n",
        "print(find_log(16))"
      ],
      "metadata": {
        "colab": {
          "base_uri": "https://localhost:8080/"
        },
        "id": "SenWct_371jx",
        "outputId": "38ba066d-165b-4636-d5cb-e8605b2eb0d6"
      },
      "execution_count": 4,
      "outputs": [
        {
          "output_type": "stream",
          "name": "stdout",
          "text": [
            "2.772588722239781\n"
          ]
        }
      ]
    },
    {
      "cell_type": "code",
      "source": [
        "from test import find_log,find_exp\n",
        "print(find_log(16))\n",
        "print(find_exp(16))"
      ],
      "metadata": {
        "colab": {
          "base_uri": "https://localhost:8080/"
        },
        "id": "sWSlT6AX80Rv",
        "outputId": "1c3f690c-b462-442d-f1ed-598c7d24aacd"
      },
      "execution_count": 7,
      "outputs": [
        {
          "output_type": "stream",
          "name": "stdout",
          "text": [
            "2.772588722239781\n",
            "8886110.520507872\n"
          ]
        }
      ]
    },
    {
      "cell_type": "code",
      "source": [
        "import sys\n",
        "sys.path.append('C:\\Datasets')\n",
        "sys.path\n",
        "from test2 import find_sqrt\n",
        "print(find_sqrt(16))\n"
      ],
      "metadata": {
        "colab": {
          "base_uri": "https://localhost:8080/"
        },
        "id": "wKHe-ZZC9uwy",
        "outputId": "cf45e8e1-45ea-4ba0-b444-48508e214c86"
      },
      "execution_count": 11,
      "outputs": [
        {
          "output_type": "stream",
          "name": "stdout",
          "text": [
            "256\n"
          ]
        }
      ]
    }
  ]
}