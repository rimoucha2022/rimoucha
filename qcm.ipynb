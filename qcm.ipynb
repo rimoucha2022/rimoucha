{
  "nbformat": 4,
  "nbformat_minor": 0,
  "metadata": {
    "colab": {
      "name": "qcm.ipynb",
      "provenance": [],
      "authorship_tag": "ABX9TyOm8unbFCszLVfpL5mn3nZq",
      "include_colab_link": true
    },
    "kernelspec": {
      "name": "python3",
      "display_name": "Python 3"
    },
    "language_info": {
      "name": "python"
    }
  },
  "cells": [
    {
      "cell_type": "markdown",
      "metadata": {
        "id": "view-in-github",
        "colab_type": "text"
      },
      "source": [
        "<a href=\"https://colab.research.google.com/github/rimoucha2022/rimoucha/blob/main/qcm.ipynb\" target=\"_parent\"><img src=\"https://colab.research.google.com/assets/colab-badge.svg\" alt=\"Open In Colab\"/></a>"
      ]
    },
    {
      "cell_type": "code",
      "execution_count": 14,
      "metadata": {
        "colab": {
          "base_uri": "https://localhost:8080/"
        },
        "id": "731B1BJPvRfP",
        "outputId": "92a11d50-63d9-4db3-f84c-efbe49a4df35"
      },
      "outputs": [
        {
          "output_type": "stream",
          "name": "stdout",
          "text": [
            "3\n"
          ]
        }
      ],
      "source": [
        "angle=-1\n",
        "for i in range(-1,1):\n",
        "  if 2*i <4:\n",
        "    angle+=1\n",
        "#else decalée l'execute après sortie de la boucle for\n",
        "else:\n",
        "    angle+=2\n",
        "print(angle)\n"
      ]
    },
    {
      "cell_type": "code",
      "source": [
        "a=2*3//4\n",
        "print(a)"
      ],
      "metadata": {
        "colab": {
          "base_uri": "https://localhost:8080/"
        },
        "id": "W5DYHayryDgh",
        "outputId": "99966786-419e-4e03-c866-5a67515d1cda"
      },
      "execution_count": 6,
      "outputs": [
        {
          "output_type": "stream",
          "name": "stdout",
          "text": [
            "1\n"
          ]
        }
      ]
    },
    {
      "cell_type": "code",
      "source": [
        "list1=[1,2]\n",
        "list2=list1[:]\n",
        "print(list2)\n",
        "list2.append(3)\n",
        "print(list2)\n",
        "print(list2[-1]+list1[-1])"
      ],
      "metadata": {
        "colab": {
          "base_uri": "https://localhost:8080/"
        },
        "id": "7SZUTTt40O-W",
        "outputId": "326bee14-734e-4d40-9bbe-1b0cfe31f609"
      },
      "execution_count": 10,
      "outputs": [
        {
          "output_type": "stream",
          "name": "stdout",
          "text": [
            "[1, 2]\n",
            "[1, 2, 3]\n",
            "5\n"
          ]
        }
      ]
    }
  ]
}